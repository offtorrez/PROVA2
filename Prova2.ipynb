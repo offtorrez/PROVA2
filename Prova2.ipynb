{
 "cells": [
  {
   "cell_type": "markdown",
   "id": "1590d35c-f6b0-42e8-94e4-13162eb1a96b",
   "metadata": {},
   "source": [
    "P2 Lucas Torres Santana, Ciência de Dados para Negócios, Fatec Votorantim.\n"
   ]
  },
  {
   "cell_type": "code",
   "execution_count": 20,
   "id": "817e3833-436c-4535-8ab6-2103e05ce91c",
   "metadata": {},
   "outputs": [
    {
     "name": "stdout",
     "output_type": "stream",
     "text": [
      "O consumo diário médio foi: 51.36666666666667 kWh\n"
     ]
    }
   ],
   "source": [
    "consumo_diario = [50, 45, 55, 60, 48, 52, 47, 49, 53, 51,\n",
    "                   50, 46, 54, 61, 49, 53, 48, 50, 52, 47,\n",
    "                   56, 50, 55, 60, 48, 52, 47, 49, 53, 51]\n",
    "\n",
    "def consumo(lista):\n",
    "    soma = 0\n",
    "    contador = 0\n",
    "\n",
    "    for i in lista:\n",
    "        soma = soma + i\n",
    "        contador = contador + 1\n",
    "\n",
    "    media = soma / contador\n",
    "    return media\n",
    "\n",
    "resultado = consumo(consumo_diario)\n",
    "\n",
    "print(\"O consumo diário médio foi:\", resultado, \"kWh\")\n",
    "\n",
    "\n",
    "\n",
    "\n",
    "\n"
   ]
  },
  {
   "cell_type": "code",
   "execution_count": null,
   "id": "a6a3bb74-e5dd-41d7-92ee-51bf05dfef76",
   "metadata": {},
   "outputs": [],
   "source": []
  },
  {
   "cell_type": "code",
   "execution_count": null,
   "id": "e251d096-8191-445c-ad5b-0c14c0080072",
   "metadata": {},
   "outputs": [],
   "source": []
  },
  {
   "cell_type": "code",
   "execution_count": null,
   "id": "76de36d9-40a8-4d66-a24a-6ad5e553670b",
   "metadata": {},
   "outputs": [],
   "source": []
  }
 ],
 "metadata": {
  "kernelspec": {
   "display_name": "Python [conda env:base] *",
   "language": "python",
   "name": "conda-base-py"
  },
  "language_info": {
   "codemirror_mode": {
    "name": "ipython",
    "version": 3
   },
   "file_extension": ".py",
   "mimetype": "text/x-python",
   "name": "python",
   "nbconvert_exporter": "python",
   "pygments_lexer": "ipython3",
   "version": "3.12.7"
  }
 },
 "nbformat": 4,
 "nbformat_minor": 5
}
